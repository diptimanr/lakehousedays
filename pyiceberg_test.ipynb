{
 "cells": [
  {
   "cell_type": "code",
   "execution_count": 1,
   "id": "e887b4a2-4a88-4ece-a496-07288feea354",
   "metadata": {},
   "outputs": [],
   "source": [
    "import os\n",
    "from pyiceberg.catalog.sql import SqlCatalog\n",
    "from pyiceberg.catalog import load_catalog\n",
    "from pyiceberg.schema import Schema\n",
    "from pyiceberg.types import (NestedField,\n",
    "                             StringType, FloatType)\n",
    "from pyiceberg.partitioning import PartitionSpec, PartitionField\n",
    "from pyiceberg.transforms import IdentityTransform\n",
    "from pyiceberg.expressions import EqualTo\n",
    "import pyarrow as pa\n",
    "import pandas as pd"
   ]
  },
  {
   "cell_type": "code",
   "execution_count": 2,
   "id": "a83ad710-9b32-47f2-968d-c4f20063fc7c",
   "metadata": {},
   "outputs": [],
   "source": [
    "warehouse_path = \".\"\n",
    "\n",
    "catalog = SqlCatalog(\n",
    "    \"default\",\n",
    "    **{\n",
    "        \"uri\": \"sqlite:///pyiceberg_cat.db\",\n",
    "        \"warehouse\": f\"file://{warehouse_path}\"\n",
    "    }\n",
    ")"
   ]
  },
  {
   "cell_type": "code",
   "execution_count": 3,
   "id": "bd9df7ed-de61-49f7-b17a-fb9fc4b15e76",
   "metadata": {},
   "outputs": [
    {
     "name": "stdout",
     "output_type": "stream",
     "text": [
      "{'uri': 'sqlite:///pyiceberg_cat.db', 'warehouse': 'file://.'}\n"
     ]
    }
   ],
   "source": [
    "print(catalog.properties)"
   ]
  },
  {
   "cell_type": "code",
   "execution_count": 4,
   "id": "6aa28742-9105-4bcd-b738-d976375b17f1",
   "metadata": {},
   "outputs": [],
   "source": [
    "# Create an Iceberg schema for the ingested data\n",
    "schema = Schema(\n",
    "    NestedField(1, \"pos_id\", StringType(), required=True),\n",
    "    NestedField(2, \"total_amount\", FloatType(), required=True),\n",
    "    NestedField(3, \"device_make\", StringType(), required=True),\n",
    "    identifier_field_ids=[1]  # 'device_id' is the primary key\n",
    ")"
   ]
  },
  {
   "cell_type": "code",
   "execution_count": 5,
   "id": "c8d9a3b7-fd6b-497c-a7fe-c2197122881f",
   "metadata": {},
   "outputs": [],
   "source": [
    "# Create a partition specification with device_id as the partition key\n",
    "partition_spec = PartitionSpec(\n",
    "    PartitionField(source_id=1, field_id=1000, transform=IdentityTransform(), name=\"pos_id\")\n",
    ")"
   ]
  },
  {
   "cell_type": "code",
   "execution_count": 6,
   "id": "17bc3cc2-3a6c-4efb-a6de-7ed2c0853306",
   "metadata": {},
   "outputs": [],
   "source": [
    "# Create a namespace and an iceberg table\n",
    "catalog.create_namespace_if_not_exists('pos_ns')\n",
    "pos_table = catalog.create_table_if_not_exists(\n",
    "    identifier='pos_ns.pos_sales',\n",
    "    schema=schema,\n",
    "    partition_spec=partition_spec\n",
    ")"
   ]
  },
  {
   "cell_type": "code",
   "execution_count": 7,
   "id": "a2bdfb57-6df5-45a1-ba1c-90265edec5c1",
   "metadata": {},
   "outputs": [],
   "source": [
    "# Create the first batch of in-memory arrow records\n",
    "initial_data = pa.table([\n",
    "    pa.array(['wi27', 'wi35', 'wi86']),\n",
    "    pa.array([350.5, 564.32, 101.85]),\n",
    "    pa.array(['INGENICO', 'VERIFONE', 'MSWIPE'])\n",
    "], schema=schema.as_arrow())"
   ]
  },
  {
   "cell_type": "code",
   "execution_count": 8,
   "id": "9aac3ee6-69c3-450b-90ae-0181a834c6b1",
   "metadata": {},
   "outputs": [],
   "source": [
    "# Insert initial data\n",
    "pos_table.overwrite(initial_data)"
   ]
  },
  {
   "cell_type": "code",
   "execution_count": 9,
   "id": "6acfc762-dab2-471b-9a43-a744eac4e353",
   "metadata": {},
   "outputs": [
    {
     "name": "stdout",
     "output_type": "stream",
     "text": [
      "\n",
      "Insert operation completed\n",
      "  pos_id  total_amount device_make\n",
      "0   wi27    350.500000    INGENICO\n",
      "1   wi35    564.320007    VERIFONE\n",
      "2   wi86    101.849998      MSWIPE\n"
     ]
    }
   ],
   "source": [
    "# Print a Pandas dataframe representation of the table data\n",
    "print(\"\\nInsert operation completed\")\n",
    "print(pos_table.scan().to_pandas())"
   ]
  },
  {
   "cell_type": "code",
   "execution_count": 10,
   "id": "88decb3b-47c4-4500-90c0-9f4aefa978c2",
   "metadata": {},
   "outputs": [],
   "source": [
    "# Create an UPSERT batch of Arrow records where one fot he device_make is changed\n",
    "upsert_data = pa.table([\n",
    "   pa.array(['wi27', 'wi35', 'wi86']),\n",
    "    pa.array([350.5, 564.32, 101.85]),\n",
    "    pa.array(['INGENICO', 'VERIFONE', 'PINELABS'])\n",
    "], schema=schema.as_arrow())"
   ]
  },
  {
   "cell_type": "code",
   "execution_count": 11,
   "id": "39e14d48-31ba-42df-a6a6-7a7edae574b0",
   "metadata": {},
   "outputs": [],
   "source": [
    "# UPSERT changed data\n",
    "try:\n",
    "    join_columns = [\"pos_id\"]\n",
    "    upsert_result = pos_table.upsert(upsert_data.select([\"pos_id\", \"total_amount\", \"device_make\"]))\n",
    "except Exception as e:\n",
    "    print(e)"
   ]
  },
  {
   "cell_type": "code",
   "execution_count": 12,
   "id": "dfce1cf2-f2be-4af2-993c-da32a75e1b85",
   "metadata": {},
   "outputs": [
    {
     "name": "stdout",
     "output_type": "stream",
     "text": [
      "\n",
      "Upsert operation completed\n",
      "  pos_id  total_amount device_make\n",
      "0   wi86    101.849998    PINELABS\n",
      "1   wi27    350.500000    INGENICO\n",
      "2   wi35    564.320007    VERIFONE\n",
      "\n",
      "\n",
      "Rows Updated: 1\n"
     ]
    }
   ],
   "source": [
    "print(\"\\nUpsert operation completed\")\n",
    "print(pos_table.scan().to_pandas())\n",
    "print(\"\\n\")\n",
    "print(f\"Rows Updated: {upsert_result.rows_updated}\")"
   ]
  },
  {
   "cell_type": "code",
   "execution_count": 13,
   "id": "82bb3479-53fb-4814-b301-6905210f6931",
   "metadata": {},
   "outputs": [
    {
     "name": "stdout",
     "output_type": "stream",
     "text": [
      "\n",
      "Filter records with device_make == PINELABS \n",
      "  pos_id  total_amount device_make\n",
      "0   wi86    101.849998    PINELABS\n",
      "\n",
      "\n"
     ]
    }
   ],
   "source": [
    "# Filter columns\n",
    "print(\"\\nFilter records with device_make == PINELABS \")\n",
    "print(pos_table.scan(row_filter=EqualTo('device_make', 'PINELABS')).to_pandas())\n",
    "print(\"\\n\")"
   ]
  },
  {
   "cell_type": "code",
   "execution_count": 14,
   "id": "5f530291-dcc3-4727-9efb-10fc67716853",
   "metadata": {},
   "outputs": [
    {
     "name": "stdout",
     "output_type": "stream",
     "text": [
      "\n",
      " After Delete\n",
      "  pos_id  total_amount device_make\n",
      "0   wi86    101.849998    PINELABS\n",
      "1   wi35    564.320007    VERIFONE\n"
     ]
    }
   ],
   "source": [
    "# Delete row\n",
    "pos_table.delete(delete_filter=EqualTo('device_make', 'INGENICO'))\n",
    "print(\"\\n After Delete\")\n",
    "print(pos_table.scan().to_pandas())"
   ]
  },
  {
   "cell_type": "code",
   "execution_count": null,
   "id": "9439ec63-de1e-4575-82cb-c116ab9acc24",
   "metadata": {},
   "outputs": [],
   "source": []
  },
  {
   "cell_type": "code",
   "execution_count": null,
   "id": "721d3865-6914-4836-908d-3dd501667aae",
   "metadata": {},
   "outputs": [],
   "source": []
  }
 ],
 "metadata": {
  "kernelspec": {
   "display_name": "Python 3 (ipykernel)",
   "language": "python",
   "name": "python3"
  },
  "language_info": {
   "codemirror_mode": {
    "name": "ipython",
    "version": 3
   },
   "file_extension": ".py",
   "mimetype": "text/x-python",
   "name": "python",
   "nbconvert_exporter": "python",
   "pygments_lexer": "ipython3",
   "version": "3.10.17"
  }
 },
 "nbformat": 4,
 "nbformat_minor": 5
}
